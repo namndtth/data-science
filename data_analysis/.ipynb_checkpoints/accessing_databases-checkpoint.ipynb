{
 "cells": [
  {
   "cell_type": "markdown",
   "metadata": {},
   "source": [
    "Connection Objects:\n",
    "- Database connections\n",
    "- Manage transactions\n",
    "\n",
    "Cursor Objects\n",
    "- Database queries"
   ]
  },
  {
   "cell_type": "markdown",
   "metadata": {},
   "source": [
    "# Writint code using DB-API"
   ]
  },
  {
   "cell_type": "markdown",
   "metadata": {},
   "source": [
    "```\n",
    "from dbmodule import connect\n",
    "\n",
    "# create connection object\n",
    "connection = connect('dabasename', 'username', 'pswd')\n",
    "\n",
    "# create a cursor object\n",
    "cursor = connection.cursor()\n",
    "\n",
    "# run queries\n",
    "cursor.excute('select * from my table')\n",
    "results = cursor.fetchall()\n",
    "\n",
    "# free resources\n",
    "cursor.close()\n",
    "connection.close()\n",
    "```"
   ]
  },
  {
   "cell_type": "code",
   "execution_count": null,
   "metadata": {},
   "outputs": [],
   "source": []
  }
 ],
 "metadata": {
  "kernelspec": {
   "display_name": "Python 3.6.10 64-bit ('namnd': conda)",
   "language": "python",
   "name": "python361064bitnamndconda428f09b7949846aea4b8c2ccc9198dfd"
  },
  "language_info": {
   "codemirror_mode": {
    "name": "ipython",
    "version": 3
   },
   "file_extension": ".py",
   "mimetype": "text/x-python",
   "name": "python",
   "nbconvert_exporter": "python",
   "pygments_lexer": "ipython3",
   "version": "3.6.10"
  }
 },
 "nbformat": 4,
 "nbformat_minor": 2
}
