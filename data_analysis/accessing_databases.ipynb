{
 "cells": [
  {
   "cell_type": "markdown",
   "metadata": {},
   "source": [
    "Connection Objects:\n",
    "- Database connections\n",
    "- Manage transactions\n",
    "\n",
    "Cursor Objects\n",
    "- Database queries"
   ]
  },
  {
   "cell_type": "markdown",
   "metadata": {},
   "source": [
    "# Writint code using DB-API"
   ]
  },
  {
   "cell_type": "markdown",
   "metadata": {},
   "source": [
    "```\n",
    "from dbmodule import connect\n",
    "\n",
    "# create connection object\n",
    "connection = connect('dabasename', 'username', 'pswd')\n",
    "\n",
    "# create a cursor object\n",
    "cursor = connection.cursor()\n",
    "\n",
    "# run queries\n",
    "cursor.excute('select * from my table')\n",
    "results = cursor.fetchall()\n",
    "\n",
    "# free resources\n",
    "cursor.close()\n",
    "connection.close()\n",
    "```"
   ]
  },
  {
   "cell_type": "markdown",
   "metadata": {},
   "source": [
    "# Data Pre-processing"
   ]
  },
  {
   "cell_type": "markdown",
   "metadata": {},
   "source": [
    "The process of converting or mapping data from the inital \"raw\" form into another format, in order to prepare the data for further analysis. (a.k.a Data cleaning, data wrangling)"
   ]
  },
  {
   "cell_type": "markdown",
   "metadata": {},
   "source": [
    "#  Dealing with Missing Values"
   ]
  },
  {
   "cell_type": "markdown",
   "metadata": {},
   "source": [
    "Missing values occur when no data value is stored for a variable (feature) in observation.\n",
    "Could be represented as \"?\", \"NaN\" or blank cell.\n",
    "\n",
    "How to deal with ?\n",
    "- Check with the data collection source\n",
    "- Drop the missing values\n",
    "    - Drop the variable\n",
    "    - Drop the data entry\n",
    "- Replace the missing values\n",
    "    - Replace with the avarage\n",
    "    - Replace by frequency\n",
    "    - Replace based on other functions\n",
    "- Leave it as missing data."
   ]
  },
  {
   "cell_type": "markdown",
   "metadata": {},
   "source": [
    "Drop missing values in Python\n",
    "- Use dataframe.dropna()\n",
    "\n",
    "Replace missing values:\n",
    "- Use dataframe.replace(missing_value, new_value)"
   ]
  },
  {
   "cell_type": "markdown",
   "metadata": {},
   "source": [
    "# Data Formatting"
   ]
  },
  {
   "cell_type": "markdown",
   "metadata": {},
   "source": [
    "Data are usually collected from different places and stored in different formats.\n",
    "\n",
    "Bringing data into a common standard of expression allows users to make meaningful comparision.\n",
    "- Correct data type\n",
    "- Normalize data\n",
    "\n",
    "Bining:\n",
    "- Grouping of values into \"bins\"\n",
    "- Converts numeric into catergorical variables\n",
    "- Group a set of numerical values into a set of \"bins\"\n",
    "```\n",
    "bins = np.linspace(min(df[\"price\"]), max(df[\"price\"], 4)\n",
    "group_names = [\"Low\", \"Medium\", \"High\"]\n",
    "df[\"price_binned\"] = pd.cut(df[\"price\"], bins, labels=group_names, include_lowest=True)\n",
    "```\n",
    "- Use histogram to visualize the distribution of the data after they've been divided into bins\n",
    "\n",
    "Use pandas.get_dummies() method to convert categorical variables to dummy variables"
   ]
  },
  {
   "cell_type": "markdown",
   "metadata": {},
   "source": [
    "# Exploratory Data Analysis (EDA)"
   ]
  },
  {
   "cell_type": "markdown",
   "metadata": {},
   "source": [
    "Preliminary step in data analysis to:\n",
    "- Summarize main characterisctics of the data\n",
    "- Gain better understanding of the dataset\n",
    "- Uncover relationships between variables\n",
    "- Extract important variables\n",
    "\n",
    "Questions:\n",
    "- What are the characterisctics that have the most impact on the car price ?\n"
   ]
  },
  {
   "cell_type": "markdown",
   "metadata": {},
   "source": [
    "#  Descriptive Statistics"
   ]
  },
  {
   "cell_type": "markdown",
   "metadata": {},
   "source": [
    "Describe basic features of data.\n",
    "\n",
    "Giving short summaries about the sample and measures of the data.\n",
    "\n",
    "Useful methods:\n",
    "- df.descrbie()\n",
    "- value_counts()\n",
    "- Box plots\n",
    "- Scatter Plot"
   ]
  },
  {
   "cell_type": "markdown",
   "metadata": {},
   "source": [
    "# Grouping Data"
   ]
  },
  {
   "cell_type": "code",
   "execution_count": null,
   "metadata": {},
   "outputs": [],
   "source": []
  }
 ],
 "metadata": {
  "kernelspec": {
   "display_name": "Python 3.6.10 64-bit ('namnd': conda)",
   "language": "python",
   "name": "python361064bitnamndconda428f09b7949846aea4b8c2ccc9198dfd"
  },
  "language_info": {
   "codemirror_mode": {
    "name": "ipython",
    "version": 3
   },
   "file_extension": ".py",
   "mimetype": "text/x-python",
   "name": "python",
   "nbconvert_exporter": "python",
   "pygments_lexer": "ipython3",
   "version": "3.6.10"
  }
 },
 "nbformat": 4,
 "nbformat_minor": 2
}
