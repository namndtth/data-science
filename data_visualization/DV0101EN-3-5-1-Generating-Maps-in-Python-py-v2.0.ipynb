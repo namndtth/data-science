{
 "cells": [
  {
   "cell_type": "markdown",
   "metadata": {
    "button": false,
    "new_sheet": false,
    "run_control": {
     "read_only": false
    }
   },
   "source": [
    "<a href=\"https://cognitiveclass.ai\"><img src = \"https://ibm.box.com/shared/static/9gegpsmnsoo25ikkbl4qzlvlyjbgxs5x.png\" width = 400> </a>\n",
    "\n",
    "<h1 align=center><font size = 5>Generating Maps with Python</font></h1>"
   ]
  },
  {
   "cell_type": "markdown",
   "metadata": {
    "button": false,
    "new_sheet": false,
    "run_control": {
     "read_only": false
    }
   },
   "source": [
    "## Introduction\n",
    "\n",
    "In this lab, we will learn how to create maps for different objectives. To do that, we will part ways with Matplotlib and work with another Python visualization library, namely **Folium**. What is nice about **Folium** is that it was developed for the sole purpose of visualizing geospatial data. While other libraries are available to visualize geospatial data, such as **plotly**, they might have a cap on how many API calls you can make within a defined time frame. **Folium**, on the other hand, is completely free."
   ]
  },
  {
   "cell_type": "markdown",
   "metadata": {
    "button": false,
    "new_sheet": false,
    "run_control": {
     "read_only": false
    }
   },
   "source": [
    "## Table of Contents\n",
    "\n",
    "<div class=\"alert alert-block alert-info\" style=\"margin-top: 20px\">\n",
    "\n",
    "1. [Exploring Datasets with *p*andas](#0)<br>\n",
    "2. [Downloading and Prepping Data](#2)<br>\n",
    "3. [Introduction to Folium](#4) <br>\n",
    "4. [Map with Markers](#6) <br>\n",
    "5. [Choropleth Maps](#8) <br>\n",
    "</div>\n",
    "<hr>"
   ]
  },
  {
   "cell_type": "markdown",
   "metadata": {
    "button": false,
    "new_sheet": false,
    "run_control": {
     "read_only": false
    }
   },
   "source": [
    "# Exploring Datasets with *pandas* and Matplotlib<a id=\"0\"></a>\n",
    "\n",
    "Toolkits: This lab heavily relies on [*pandas*](http://pandas.pydata.org/) and [**Numpy**](http://www.numpy.org/) for data wrangling, analysis, and visualization. The primary plotting library we will explore in this lab is [**Folium**](https://github.com/python-visualization/folium/).\n",
    "\n",
    "Datasets: \n",
    "\n",
    "1. San Francisco Police Department Incidents for the year 2016 - [Police Department Incidents](https://data.sfgov.org/Public-Safety/Police-Department-Incidents-Previous-Year-2016-/ritf-b9ki) from San Francisco public data portal. Incidents derived from San Francisco Police Department (SFPD) Crime Incident Reporting system. Updated daily, showing data for the entire year of 2016. Address and location has been anonymized by moving to mid-block or to an intersection.    \n",
    "\n",
    "2. Immigration to Canada from 1980 to 2013 - [International migration flows to and from selected countries - The 2015 revision](http://www.un.org/en/development/desa/population/migration/data/empirical2/migrationflows.shtml) from United Nation's website. The dataset contains annual data on the flows of international migrants as recorded by the countries of destination. The data presents both inflows and outflows according to the place of birth, citizenship or place of previous / next residence both for foreigners and nationals. For this lesson, we will focus on the Canadian Immigration data"
   ]
  },
  {
   "cell_type": "markdown",
   "metadata": {
    "button": false,
    "new_sheet": false,
    "run_control": {
     "read_only": false
    }
   },
   "source": [
    "# Downloading and Prepping Data <a id=\"2\"></a>"
   ]
  },
  {
   "cell_type": "markdown",
   "metadata": {
    "button": false,
    "new_sheet": false,
    "run_control": {
     "read_only": false
    }
   },
   "source": [
    "Import Primary Modules:"
   ]
  },
  {
   "cell_type": "code",
   "execution_count": 1,
   "metadata": {
    "button": false,
    "new_sheet": false,
    "run_control": {
     "read_only": false
    }
   },
   "outputs": [],
   "source": [
    "import numpy as np  # useful for many scientific computing in Python\n",
    "import pandas as pd # primary data structure library"
   ]
  },
  {
   "cell_type": "markdown",
   "metadata": {
    "button": false,
    "new_sheet": false,
    "run_control": {
     "read_only": false
    }
   },
   "source": [
    "# Introduction to Folium <a id=\"4\"></a>"
   ]
  },
  {
   "cell_type": "markdown",
   "metadata": {
    "button": false,
    "new_sheet": false,
    "run_control": {
     "read_only": false
    }
   },
   "source": [
    "Folium is a powerful Python library that helps you create several types of Leaflet maps. The fact that the Folium results are interactive makes this library very useful for dashboard building.\n",
    "\n",
    "From the official Folium documentation page:\n",
    "\n",
    "> Folium builds on the data wrangling strengths of the Python ecosystem and the mapping strengths of the Leaflet.js library. Manipulate your data in Python, then visualize it in on a Leaflet map via Folium.\n",
    "\n",
    "> Folium makes it easy to visualize data that's been manipulated in Python on an interactive Leaflet map. It enables both the binding of data to a map for choropleth visualizations as well as passing Vincent/Vega visualizations as markers on the map.\n",
    "\n",
    "> The library has a number of built-in tilesets from OpenStreetMap, Mapbox, and Stamen, and supports custom tilesets with Mapbox or Cloudmade API keys. Folium supports both GeoJSON and TopoJSON overlays, as well as the binding of data to those overlays to create choropleth maps with color-brewer color schemes."
   ]
  },
  {
   "cell_type": "markdown",
   "metadata": {
    "button": false,
    "new_sheet": false,
    "run_control": {
     "read_only": false
    }
   },
   "source": [
    "#### Let's install **Folium**"
   ]
  },
  {
   "cell_type": "markdown",
   "metadata": {
    "button": false,
    "new_sheet": false,
    "run_control": {
     "read_only": false
    }
   },
   "source": [
    "**Folium** is not available by default. So, we first need to install it before we are able to import it."
   ]
  },
  {
   "cell_type": "code",
   "execution_count": 2,
   "metadata": {
    "button": false,
    "new_sheet": false,
    "run_control": {
     "read_only": false
    }
   },
   "outputs": [
    {
     "name": "stdout",
     "output_type": "stream",
     "text": [
      "Folium installed and imported!\n"
     ]
    }
   ],
   "source": [
    "# !conda install -c conda-forge folium=0.5.0 --yes\n",
    "import folium\n",
    "\n",
    "print('Folium installed and imported!')"
   ]
  },
  {
   "cell_type": "markdown",
   "metadata": {
    "button": false,
    "new_sheet": false,
    "run_control": {
     "read_only": false
    }
   },
   "source": [
    "Generating the world map is straigtforward in **Folium**. You simply create a **Folium** *Map* object and then you display it. What is attactive about **Folium** maps is that they are interactive, so you can zoom into any region of interest despite the initial zoom level. "
   ]
  },
  {
   "cell_type": "code",
   "execution_count": 3,
   "metadata": {
    "button": false,
    "new_sheet": false,
    "run_control": {
     "read_only": false
    },
    "scrolled": true
   },
   "outputs": [
    {
     "data": {
      "text/html": [
       "<div style=\"width:100%;\"><div style=\"position:relative;width:100%;height:0;padding-bottom:60%;\"><span style=\"color:#565656\">Make this Notebook Trusted to load map: File -> Trust Notebook</span><iframe src=\"about:blank\" style=\"position:absolute;width:100%;height:100%;left:0;top:0;border:none !important;\" data-html=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 onload=\"this.contentDocument.open();this.contentDocument.write(atob(this.getAttribute('data-html')));this.contentDocument.close();\" allowfullscreen webkitallowfullscreen mozallowfullscreen></iframe></div></div>"
      ],
      "text/plain": [
       "<folium.folium.Map at 0x1c4645c7e48>"
      ]
     },
     "execution_count": 3,
     "metadata": {},
     "output_type": "execute_result"
    }
   ],
   "source": [
    "# define the world map\n",
    "world_map = folium.Map()\n",
    "\n",
    "# display world map\n",
    "world_map"
   ]
  },
  {
   "cell_type": "markdown",
   "metadata": {
    "button": false,
    "new_sheet": false,
    "run_control": {
     "read_only": false
    }
   },
   "source": [
    "Go ahead. Try zooming in and out of the rendered map above."
   ]
  },
  {
   "cell_type": "markdown",
   "metadata": {
    "button": false,
    "new_sheet": false,
    "run_control": {
     "read_only": false
    }
   },
   "source": [
    "You can customize this default definition of the world map by specifying the centre of your map and the intial zoom level. \n",
    "\n",
    "All locations on a map are defined by their respective *Latitude* and *Longitude* values. So you can create a map and pass in a center of *Latitude* and *Longitude* values of **[0, 0]**. \n",
    "\n",
    "For a defined center, you can also define the intial zoom level into that location when the map is rendered. **The higher the zoom level the more the map is zoomed into the center**.\n",
    "\n",
    "Let's create a map centered around Canada and play with the zoom level to see how it affects the rendered map."
   ]
  },
  {
   "cell_type": "code",
   "execution_count": 4,
   "metadata": {
    "button": false,
    "new_sheet": false,
    "run_control": {
     "read_only": false
    },
    "scrolled": false
   },
   "outputs": [
    {
     "data": {
      "text/html": [
       "<div style=\"width:100%;\"><div style=\"position:relative;width:100%;height:0;padding-bottom:60%;\"><span style=\"color:#565656\">Make this Notebook Trusted to load map: File -> Trust Notebook</span><iframe src=\"about:blank\" style=\"position:absolute;width:100%;height:100%;left:0;top:0;border:none !important;\" data-html=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 onload=\"this.contentDocument.open();this.contentDocument.write(atob(this.getAttribute('data-html')));this.contentDocument.close();\" allowfullscreen webkitallowfullscreen mozallowfullscreen></iframe></div></div>"
      ],
      "text/plain": [
       "<folium.folium.Map at 0x1c464655388>"
      ]
     },
     "execution_count": 4,
     "metadata": {},
     "output_type": "execute_result"
    }
   ],
   "source": [
    "# define the world map centered around Canada with a low zoom level\n",
    "world_map = folium.Map(location=[10.8331008,106.6795008], zoom_start=4)\n",
    "\n",
    "# display world map\n",
    "world_map"
   ]
  },
  {
   "cell_type": "markdown",
   "metadata": {
    "button": false,
    "new_sheet": false,
    "run_control": {
     "read_only": false
    }
   },
   "source": [
    "Let's create the map again with a higher zoom level"
   ]
  },
  {
   "cell_type": "code",
   "execution_count": 5,
   "metadata": {
    "button": false,
    "new_sheet": false,
    "run_control": {
     "read_only": false
    },
    "scrolled": false
   },
   "outputs": [
    {
     "data": {
      "text/html": [
       "<div style=\"width:100%;\"><div style=\"position:relative;width:100%;height:0;padding-bottom:60%;\"><span style=\"color:#565656\">Make this Notebook Trusted to load map: File -> Trust Notebook</span><iframe src=\"about:blank\" style=\"position:absolute;width:100%;height:100%;left:0;top:0;border:none !important;\" data-html=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 onload=\"this.contentDocument.open();this.contentDocument.write(atob(this.getAttribute('data-html')));this.contentDocument.close();\" allowfullscreen webkitallowfullscreen mozallowfullscreen></iframe></div></div>"
      ],
      "text/plain": [
       "<folium.folium.Map at 0x1c46465bd88>"
      ]
     },
     "execution_count": 5,
     "metadata": {},
     "output_type": "execute_result"
    }
   ],
   "source": [
    "# define the world map centered around Canada with a higher zoom level\n",
    "world_map = folium.Map(location=[10.8331008,106.6795008], zoom_start=8)\n",
    "\n",
    "# display world map\n",
    "world_map"
   ]
  },
  {
   "cell_type": "markdown",
   "metadata": {
    "button": false,
    "new_sheet": false,
    "run_control": {
     "read_only": false
    }
   },
   "source": [
    "As you can see, the higher the zoom level the more the map is zoomed into the given center."
   ]
  },
  {
   "cell_type": "markdown",
   "metadata": {
    "button": false,
    "new_sheet": false,
    "run_control": {
     "read_only": false
    }
   },
   "source": [
    "**Question**: Create a map of Mexico with a zoom level of 4."
   ]
  },
  {
   "cell_type": "code",
   "execution_count": 8,
   "metadata": {
    "button": false,
    "new_sheet": false,
    "run_control": {
     "read_only": false
    }
   },
   "outputs": [
    {
     "data": {
      "text/html": [
       "<div style=\"width:100%;\"><div style=\"position:relative;width:100%;height:0;padding-bottom:60%;\"><span style=\"color:#565656\">Make this Notebook Trusted to load map: File -> Trust Notebook</span><iframe src=\"about:blank\" style=\"position:absolute;width:100%;height:100%;left:0;top:0;border:none !important;\" data-html=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 onload=\"this.contentDocument.open();this.contentDocument.write(atob(this.getAttribute('data-html')));this.contentDocument.close();\" allowfullscreen webkitallowfullscreen mozallowfullscreen></iframe></div></div>"
      ],
      "text/plain": [
       "<folium.folium.Map at 0x1c46567be88>"
      ]
     },
     "execution_count": 8,
     "metadata": {},
     "output_type": "execute_result"
    }
   ],
   "source": [
    "### type your answer here\n",
    "\n",
    "mexico = folium.Map(location=[19.432608, -99.133209], zoom_start=4)\n",
    "\n",
    "mexico"
   ]
  },
  {
   "cell_type": "markdown",
   "metadata": {
    "button": false,
    "new_sheet": false,
    "run_control": {
     "read_only": false
    }
   },
   "source": [
    "Double-click __here__ for the solution.\n",
    "<!-- The correct answer is:\n",
    "\\\\ # define Mexico's geolocation coordinates\n",
    "mexico_latitude = 23.6345 \n",
    "mexico_longitude = -102.5528\n",
    "-->\n",
    "\n",
    "<!--\n",
    "\\\\ # define the world map centered around Canada with a higher zoom level\n",
    "mexico_map = folium.Map(location=[mexico_latitude, mexico_longitude], zoom_start=4)\n",
    "-->\n",
    "\n",
    "<!--\n",
    "\\\\ # display world map\n",
    "mexico_map\n",
    "-->"
   ]
  },
  {
   "cell_type": "markdown",
   "metadata": {
    "button": false,
    "new_sheet": false,
    "run_control": {
     "read_only": false
    }
   },
   "source": [
    "Another cool feature of **Folium** is that you can generate different map styles."
   ]
  },
  {
   "cell_type": "markdown",
   "metadata": {
    "button": false,
    "new_sheet": false,
    "run_control": {
     "read_only": false
    }
   },
   "source": [
    "### A. Stamen Toner Maps\n",
    "\n",
    "These are high-contrast B+W (black and white) maps. They are perfect for data mashups and exploring river meanders and coastal zones. "
   ]
  },
  {
   "cell_type": "markdown",
   "metadata": {
    "button": false,
    "new_sheet": false,
    "run_control": {
     "read_only": false
    }
   },
   "source": [
    "Let's create a Stamen Toner map of canada with a zoom level of 4."
   ]
  },
  {
   "cell_type": "code",
   "execution_count": 9,
   "metadata": {
    "button": false,
    "new_sheet": false,
    "run_control": {
     "read_only": false
    },
    "scrolled": false
   },
   "outputs": [
    {
     "data": {
      "text/html": [
       "<div style=\"width:100%;\"><div style=\"position:relative;width:100%;height:0;padding-bottom:60%;\"><span style=\"color:#565656\">Make this Notebook Trusted to load map: File -> Trust Notebook</span><iframe src=\"about:blank\" style=\"position:absolute;width:100%;height:100%;left:0;top:0;border:none !important;\" data-html=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 onload=\"this.contentDocument.open();this.contentDocument.write(atob(this.getAttribute('data-html')));this.contentDocument.close();\" allowfullscreen webkitallowfullscreen mozallowfullscreen></iframe></div></div>"
      ],
      "text/plain": [
       "<folium.folium.Map at 0x1c465687888>"
      ]
     },
     "execution_count": 9,
     "metadata": {},
     "output_type": "execute_result"
    }
   ],
   "source": [
    "# create a Stamen Toner map of the world centered around Canada\n",
    "world_map = folium.Map(location=[56.130, -106.35], zoom_start=4, tiles='Stamen Toner')\n",
    "\n",
    "# display map\n",
    "world_map"
   ]
  },
  {
   "cell_type": "markdown",
   "metadata": {
    "button": false,
    "new_sheet": false,
    "run_control": {
     "read_only": false
    }
   },
   "source": [
    "Feel free to zoom in and out to see how this style compares to the default one."
   ]
  },
  {
   "cell_type": "markdown",
   "metadata": {
    "button": false,
    "new_sheet": false,
    "run_control": {
     "read_only": false
    }
   },
   "source": [
    "### B. Stamen Terrain Maps\n",
    "\n",
    "These are maps that feature hill shading and natural vegetation colors. They showcase advanced labeling and linework generalization of dual-carriageway roads."
   ]
  },
  {
   "cell_type": "markdown",
   "metadata": {
    "button": false,
    "new_sheet": false,
    "run_control": {
     "read_only": false
    }
   },
   "source": [
    "Let's create a Stamen Terrain map of Canada with zoom level 4."
   ]
  },
  {
   "cell_type": "code",
   "execution_count": 10,
   "metadata": {
    "button": false,
    "new_sheet": false,
    "run_control": {
     "read_only": false
    },
    "scrolled": false
   },
   "outputs": [
    {
     "data": {
      "text/html": [
       "<div style=\"width:100%;\"><div style=\"position:relative;width:100%;height:0;padding-bottom:60%;\"><span style=\"color:#565656\">Make this Notebook Trusted to load map: File -> Trust Notebook</span><iframe src=\"about:blank\" style=\"position:absolute;width:100%;height:100%;left:0;top:0;border:none !important;\" data-html=PCFET0NUWVBFIGh0bWw+CjxoZWFkPiAgICAKICAgIDxtZXRhIGh0dHAtZXF1aXY9ImNvbnRlbnQtdHlwZSIgY29udGVudD0idGV4dC9odG1sOyBjaGFyc2V0PVVURi04IiAvPgogICAgCiAgICAgICAgPHNjcmlwdD4KICAgICAgICAgICAgTF9OT19UT1VDSCA9IGZhbHNlOwogICAgICAgICAgICBMX0RJU0FCTEVfM0QgPSBmYWxzZTsKICAgICAgICA8L3NjcmlwdD4KICAgIAogICAgPHNjcmlwdCBzcmM9Imh0dHBzOi8vY2RuLmpzZGVsaXZyLm5ldC9ucG0vbGVhZmxldEAxLjYuMC9kaXN0L2xlYWZsZXQuanMiPjwvc2NyaXB0PgogICAgPHNjcmlwdCBzcmM9Imh0dHBzOi8vY29kZS5qcXVlcnkuY29tL2pxdWVyeS0xLjEyLjQubWluLmpzIj48L3NjcmlwdD4KICAgIDxzY3JpcHQgc3JjPSJodHRwczovL21heGNkbi5ib290c3RyYXBjZG4uY29tL2Jvb3RzdHJhcC8zLjIuMC9qcy9ib290c3RyYXAubWluLmpzIj48L3NjcmlwdD4KICAgIDxzY3JpcHQgc3JjPSJodHRwczovL2NkbmpzLmNsb3VkZmxhcmUuY29tL2FqYXgvbGlicy9MZWFmbGV0LmF3ZXNvbWUtbWFya2Vycy8yLjAuMi9sZWFmbGV0LmF3ZXNvbWUtbWFya2Vycy5qcyI+PC9zY3JpcHQ+CiAgICA8bGluayByZWw9InN0eWxlc2hlZXQiIGhyZWY9Imh0dHBzOi8vY2RuLmpzZGVsaXZyLm5ldC9ucG0vbGVhZmxldEAxLjYuMC9kaXN0L2xlYWZsZXQuY3NzIi8+CiAgICA8bGluayByZWw9InN0eWxlc2hlZXQiIGhyZWY9Imh0dHBzOi8vbWF4Y2RuLmJvb3RzdHJhcGNkbi5jb20vYm9vdHN0cmFwLzMuMi4wL2Nzcy9ib290c3RyYXAubWluLmNzcyIvPgogICAgPGxpbmsgcmVsPSJzdHlsZXNoZWV0IiBocmVmPSJodHRwczovL21heGNkbi5ib290c3RyYXBjZG4uY29tL2Jvb3RzdHJhcC8zLjIuMC9jc3MvYm9vdHN0cmFwLXRoZW1lLm1pbi5jc3MiLz4KICAgIDxsaW5rIHJlbD0ic3R5bGVzaGVldCIgaHJlZj0iaHR0cHM6Ly9tYXhjZG4uYm9vdHN0cmFwY2RuLmNvbS9mb250LWF3ZXNvbWUvNC42LjMvY3NzL2ZvbnQtYXdlc29tZS5taW4uY3NzIi8+CiAgICA8bGluayByZWw9InN0eWxlc2hlZXQiIGhyZWY9Imh0dHBzOi8vY2RuanMuY2xvdWRmbGFyZS5jb20vYWpheC9saWJzL0xlYWZsZXQuYXdlc29tZS1tYXJrZXJzLzIuMC4yL2xlYWZsZXQuYXdlc29tZS1tYXJrZXJzLmNzcyIvPgogICAgPGxpbmsgcmVsPSJzdHlsZXNoZWV0IiBocmVmPSJodHRwczovL3Jhd2Nkbi5naXRoYWNrLmNvbS9weXRob24tdmlzdWFsaXphdGlvbi9mb2xpdW0vbWFzdGVyL2ZvbGl1bS90ZW1wbGF0ZXMvbGVhZmxldC5hd2Vzb21lLnJvdGF0ZS5jc3MiLz4KICAgIDxzdHlsZT5odG1sLCBib2R5IHt3aWR0aDogMTAwJTtoZWlnaHQ6IDEwMCU7bWFyZ2luOiAwO3BhZGRpbmc6IDA7fTwvc3R5bGU+CiAgICA8c3R5bGU+I21hcCB7cG9zaXRpb246YWJzb2x1dGU7dG9wOjA7Ym90dG9tOjA7cmlnaHQ6MDtsZWZ0OjA7fTwvc3R5bGU+CiAgICAKICAgICAgICAgICAgPG1ldGEgbmFtZT0idmlld3BvcnQiIGNvbnRlbnQ9IndpZHRoPWRldmljZS13aWR0aCwKICAgICAgICAgICAgICAgIGluaXRpYWwtc2NhbGU9MS4wLCBtYXhpbXVtLXNjYWxlPTEuMCwgdXNlci1zY2FsYWJsZT1ubyIgLz4KICAgICAgICAgICAgPHN0eWxlPgogICAgICAgICAgICAgICAgI21hcF8wZDE2MWU3ODY3NmY0ZDJkYTQ3ZDRmODM1ZTFmMDg3ZSB7CiAgICAgICAgICAgICAgICAgICAgcG9zaXRpb246IHJlbGF0aXZlOwogICAgICAgICAgICAgICAgICAgIHdpZHRoOiAxMDAuMCU7CiAgICAgICAgICAgICAgICAgICAgaGVpZ2h0OiAxMDAuMCU7CiAgICAgICAgICAgICAgICAgICAgbGVmdDogMC4wJTsKICAgICAgICAgICAgICAgICAgICB0b3A6IDAuMCU7CiAgICAgICAgICAgICAgICB9CiAgICAgICAgICAgIDwvc3R5bGU+CiAgICAgICAgCjwvaGVhZD4KPGJvZHk+ICAgIAogICAgCiAgICAgICAgICAgIDxkaXYgY2xhc3M9ImZvbGl1bS1tYXAiIGlkPSJtYXBfMGQxNjFlNzg2NzZmNGQyZGE0N2Q0ZjgzNWUxZjA4N2UiID48L2Rpdj4KICAgICAgICAKPC9ib2R5Pgo8c2NyaXB0PiAgICAKICAgIAogICAgICAgICAgICB2YXIgbWFwXzBkMTYxZTc4Njc2ZjRkMmRhNDdkNGY4MzVlMWYwODdlID0gTC5tYXAoCiAgICAgICAgICAgICAgICAibWFwXzBkMTYxZTc4Njc2ZjRkMmRhNDdkNGY4MzVlMWYwODdlIiwKICAgICAgICAgICAgICAgIHsKICAgICAgICAgICAgICAgICAgICBjZW50ZXI6IFs1Ni4xMywgLTEwNi4zNV0sCiAgICAgICAgICAgICAgICAgICAgY3JzOiBMLkNSUy5FUFNHMzg1NywKICAgICAgICAgICAgICAgICAgICB6b29tOiA0LAogICAgICAgICAgICAgICAgICAgIHpvb21Db250cm9sOiB0cnVlLAogICAgICAgICAgICAgICAgICAgIHByZWZlckNhbnZhczogZmFsc2UsCiAgICAgICAgICAgICAgICB9CiAgICAgICAgICAgICk7CgogICAgICAgICAgICAKCiAgICAgICAgCiAgICAKICAgICAgICAgICAgdmFyIHRpbGVfbGF5ZXJfMmUxNWIzNmQ1YmQ1NDY3NDg5MTE3Y2Q0NThlYjNlYTMgPSBMLnRpbGVMYXllcigKICAgICAgICAgICAgICAgICJodHRwczovL3N0YW1lbi10aWxlcy17c30uYS5zc2wuZmFzdGx5Lm5ldC90ZXJyYWluL3t6fS97eH0ve3l9LmpwZyIsCiAgICAgICAgICAgICAgICB7ImF0dHJpYnV0aW9uIjogIk1hcCB0aWxlcyBieSBcdTAwM2NhIGhyZWY9XCJodHRwOi8vc3RhbWVuLmNvbVwiXHUwMDNlU3RhbWVuIERlc2lnblx1MDAzYy9hXHUwMDNlLCB1bmRlciBcdTAwM2NhIGhyZWY9XCJodHRwOi8vY3JlYXRpdmVjb21tb25zLm9yZy9saWNlbnNlcy9ieS8zLjBcIlx1MDAzZUNDIEJZIDMuMFx1MDAzYy9hXHUwMDNlLiBEYXRhIGJ5IFx1MDAyNmNvcHk7IFx1MDAzY2EgaHJlZj1cImh0dHA6Ly9vcGVuc3RyZWV0bWFwLm9yZ1wiXHUwMDNlT3BlblN0cmVldE1hcFx1MDAzYy9hXHUwMDNlLCB1bmRlciBcdTAwM2NhIGhyZWY9XCJodHRwOi8vY3JlYXRpdmVjb21tb25zLm9yZy9saWNlbnNlcy9ieS1zYS8zLjBcIlx1MDAzZUNDIEJZIFNBXHUwMDNjL2FcdTAwM2UuIiwgImRldGVjdFJldGluYSI6IGZhbHNlLCAibWF4TmF0aXZlWm9vbSI6IDE4LCAibWF4Wm9vbSI6IDE4LCAibWluWm9vbSI6IDAsICJub1dyYXAiOiBmYWxzZSwgIm9wYWNpdHkiOiAxLCAic3ViZG9tYWlucyI6ICJhYmMiLCAidG1zIjogZmFsc2V9CiAgICAgICAgICAgICkuYWRkVG8obWFwXzBkMTYxZTc4Njc2ZjRkMmRhNDdkNGY4MzVlMWYwODdlKTsKICAgICAgICAKPC9zY3JpcHQ+ onload=\"this.contentDocument.open();this.contentDocument.write(atob(this.getAttribute('data-html')));this.contentDocument.close();\" allowfullscreen webkitallowfullscreen mozallowfullscreen></iframe></div></div>"
      ],
      "text/plain": [
       "<folium.folium.Map at 0x1c4656931c8>"
      ]
     },
     "execution_count": 10,
     "metadata": {},
     "output_type": "execute_result"
    }
   ],
   "source": [
    "# create a Stamen Toner map of the world centered around Canada\n",
    "world_map = folium.Map(location=[56.130, -106.35], zoom_start=4, tiles='Stamen Terrain')\n",
    "\n",
    "# display map\n",
    "world_map"
   ]
  },
  {
   "cell_type": "markdown",
   "metadata": {
    "button": false,
    "new_sheet": false,
    "run_control": {
     "read_only": false
    }
   },
   "source": [
    "Feel free to zoom in and out to see how this style compares to Stamen Toner and the default style."
   ]
  },
  {
   "cell_type": "markdown",
   "metadata": {
    "button": false,
    "new_sheet": false,
    "run_control": {
     "read_only": false
    }
   },
   "source": [
    "### C. Mapbox Bright Maps\n",
    "\n",
    "These are maps that quite similar to the default style, except that the borders are not visible with a low zoom level. Furthermore, unlike the default style where country names are displayed in each country's native language, *Mapbox Bright* style displays all country names in English."
   ]
  },
  {
   "cell_type": "markdown",
   "metadata": {
    "button": false,
    "new_sheet": false,
    "run_control": {
     "read_only": false
    }
   },
   "source": [
    "Let's create a world map with this style."
   ]
  },
  {
   "cell_type": "code",
   "execution_count": 11,
   "metadata": {
    "button": false,
    "new_sheet": false,
    "run_control": {
     "read_only": false
    }
   },
   "outputs": [
    {
     "data": {
      "text/html": [
       "<div style=\"width:100%;\"><div style=\"position:relative;width:100%;height:0;padding-bottom:60%;\"><span style=\"color:#565656\">Make this Notebook Trusted to load map: File -> Trust Notebook</span><iframe src=\"about:blank\" style=\"position:absolute;width:100%;height:100%;left:0;top:0;border:none !important;\" data-html=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 onload=\"this.contentDocument.open();this.contentDocument.write(atob(this.getAttribute('data-html')));this.contentDocument.close();\" allowfullscreen webkitallowfullscreen mozallowfullscreen></iframe></div></div>"
      ],
      "text/plain": [
       "<folium.folium.Map at 0x1c46567bd08>"
      ]
     },
     "execution_count": 11,
     "metadata": {},
     "output_type": "execute_result"
    }
   ],
   "source": [
    "# create a world map with a Mapbox Bright style.\n",
    "world_map = folium.Map(tiles='Mapbox Bright')\n",
    "\n",
    "# display the map\n",
    "world_map"
   ]
  },
  {
   "cell_type": "markdown",
   "metadata": {
    "button": false,
    "new_sheet": false,
    "run_control": {
     "read_only": false
    }
   },
   "source": [
    "Zoom in and notice how the borders start showing as you zoom in, and the displayed country names are in English."
   ]
  },
  {
   "cell_type": "markdown",
   "metadata": {
    "button": false,
    "new_sheet": false,
    "run_control": {
     "read_only": false
    }
   },
   "source": [
    "**Question**: Create a map of Mexico to visualize its hill shading and natural vegetation. Use a zoom level of 6."
   ]
  },
  {
   "cell_type": "code",
   "execution_count": 12,
   "metadata": {
    "button": false,
    "new_sheet": false,
    "run_control": {
     "read_only": false
    }
   },
   "outputs": [
    {
     "data": {
      "text/html": [
       "<div style=\"width:100%;\"><div style=\"position:relative;width:100%;height:0;padding-bottom:60%;\"><span style=\"color:#565656\">Make this Notebook Trusted to load map: File -> Trust Notebook</span><iframe src=\"about:blank\" style=\"position:absolute;width:100%;height:100%;left:0;top:0;border:none !important;\" data-html=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 onload=\"this.contentDocument.open();this.contentDocument.write(atob(this.getAttribute('data-html')));this.contentDocument.close();\" allowfullscreen webkitallowfullscreen mozallowfullscreen></iframe></div></div>"
      ],
      "text/plain": [
       "<folium.folium.Map at 0x1c4656976c8>"
      ]
     },
     "execution_count": 12,
     "metadata": {},
     "output_type": "execute_result"
    }
   ],
   "source": [
    "### type your answer here\n",
    "mexico_latitude = 23.6345 \n",
    "mexico_longitude = -102.5528\n",
    "\n",
    "mexico_map = folium.Map(location=[mexico_latitude, mexico_longitude], zoom_start=6, tiles='Stamen Terrain')\n",
    "\n",
    "mexico_map"
   ]
  },
  {
   "cell_type": "markdown",
   "metadata": {
    "button": false,
    "new_sheet": false,
    "run_control": {
     "read_only": false
    }
   },
   "source": [
    "Double-click __here__ for the solution.\n",
    "<!-- The correct answer is:\n",
    "\\\\ # define Mexico's geolocation coordinates\n",
    "mexico_latitude = 23.6345 \n",
    "mexico_longitude = -102.5528\n",
    "-->\n",
    "\n",
    "<!--\n",
    "\\\\ # define the world map centered around Canada with a higher zoom level\n",
    "mexico_map = folium.Map(location=[mexico_latitude, mexico_longitude], zoom_start=6, tiles='Stamen Terrain')\n",
    "-->\n",
    "\n",
    "<!--\n",
    "\\\\ # display world map\n",
    "mexico_map\n",
    "-->"
   ]
  },
  {
   "cell_type": "markdown",
   "metadata": {
    "button": false,
    "new_sheet": false,
    "run_control": {
     "read_only": false
    }
   },
   "source": [
    "# Maps with Markers <a id=\"6\"></a>\n"
   ]
  },
  {
   "cell_type": "markdown",
   "metadata": {
    "button": false,
    "new_sheet": false,
    "run_control": {
     "read_only": false
    }
   },
   "source": [
    "Let's download and import the data on police department incidents using *pandas* `read_csv()` method."
   ]
  },
  {
   "cell_type": "markdown",
   "metadata": {
    "button": false,
    "new_sheet": false,
    "run_control": {
     "read_only": false
    }
   },
   "source": [
    "Download the dataset and read it into a *pandas* dataframe:"
   ]
  },
  {
   "cell_type": "code",
   "execution_count": 13,
   "metadata": {
    "button": false,
    "new_sheet": false,
    "run_control": {
     "read_only": false
    }
   },
   "outputs": [
    {
     "name": "stdout",
     "output_type": "stream",
     "text": [
      "Dataset downloaded and read into a pandas dataframe!\n"
     ]
    }
   ],
   "source": [
    "df_incidents = pd.read_csv('https://s3-api.us-geo.objectstorage.softlayer.net/cf-courses-data/CognitiveClass/DV0101EN/labs/Data_Files/Police_Department_Incidents_-_Previous_Year__2016_.csv')\n",
    "\n",
    "print('Dataset downloaded and read into a pandas dataframe!')"
   ]
  },
  {
   "cell_type": "markdown",
   "metadata": {
    "button": false,
    "new_sheet": false,
    "run_control": {
     "read_only": false
    }
   },
   "source": [
    "Let's take a look at the first five items in our dataset."
   ]
  },
  {
   "cell_type": "code",
   "execution_count": 14,
   "metadata": {
    "button": false,
    "new_sheet": false,
    "run_control": {
     "read_only": false
    }
   },
   "outputs": [
    {
     "data": {
      "text/html": [
       "<div>\n",
       "<style scoped>\n",
       "    .dataframe tbody tr th:only-of-type {\n",
       "        vertical-align: middle;\n",
       "    }\n",
       "\n",
       "    .dataframe tbody tr th {\n",
       "        vertical-align: top;\n",
       "    }\n",
       "\n",
       "    .dataframe thead th {\n",
       "        text-align: right;\n",
       "    }\n",
       "</style>\n",
       "<table border=\"1\" class=\"dataframe\">\n",
       "  <thead>\n",
       "    <tr style=\"text-align: right;\">\n",
       "      <th></th>\n",
       "      <th>IncidntNum</th>\n",
       "      <th>Category</th>\n",
       "      <th>Descript</th>\n",
       "      <th>DayOfWeek</th>\n",
       "      <th>Date</th>\n",
       "      <th>Time</th>\n",
       "      <th>PdDistrict</th>\n",
       "      <th>Resolution</th>\n",
       "      <th>Address</th>\n",
       "      <th>X</th>\n",
       "      <th>Y</th>\n",
       "      <th>Location</th>\n",
       "      <th>PdId</th>\n",
       "    </tr>\n",
       "  </thead>\n",
       "  <tbody>\n",
       "    <tr>\n",
       "      <th>0</th>\n",
       "      <td>120058272</td>\n",
       "      <td>WEAPON LAWS</td>\n",
       "      <td>POSS OF PROHIBITED WEAPON</td>\n",
       "      <td>Friday</td>\n",
       "      <td>01/29/2016 12:00:00 AM</td>\n",
       "      <td>11:00</td>\n",
       "      <td>SOUTHERN</td>\n",
       "      <td>ARREST, BOOKED</td>\n",
       "      <td>800 Block of BRYANT ST</td>\n",
       "      <td>-122.403405</td>\n",
       "      <td>37.775421</td>\n",
       "      <td>(37.775420706711, -122.403404791479)</td>\n",
       "      <td>12005827212120</td>\n",
       "    </tr>\n",
       "    <tr>\n",
       "      <th>1</th>\n",
       "      <td>120058272</td>\n",
       "      <td>WEAPON LAWS</td>\n",
       "      <td>FIREARM, LOADED, IN VEHICLE, POSSESSION OR USE</td>\n",
       "      <td>Friday</td>\n",
       "      <td>01/29/2016 12:00:00 AM</td>\n",
       "      <td>11:00</td>\n",
       "      <td>SOUTHERN</td>\n",
       "      <td>ARREST, BOOKED</td>\n",
       "      <td>800 Block of BRYANT ST</td>\n",
       "      <td>-122.403405</td>\n",
       "      <td>37.775421</td>\n",
       "      <td>(37.775420706711, -122.403404791479)</td>\n",
       "      <td>12005827212168</td>\n",
       "    </tr>\n",
       "    <tr>\n",
       "      <th>2</th>\n",
       "      <td>141059263</td>\n",
       "      <td>WARRANTS</td>\n",
       "      <td>WARRANT ARREST</td>\n",
       "      <td>Monday</td>\n",
       "      <td>04/25/2016 12:00:00 AM</td>\n",
       "      <td>14:59</td>\n",
       "      <td>BAYVIEW</td>\n",
       "      <td>ARREST, BOOKED</td>\n",
       "      <td>KEITH ST / SHAFTER AV</td>\n",
       "      <td>-122.388856</td>\n",
       "      <td>37.729981</td>\n",
       "      <td>(37.7299809672996, -122.388856204292)</td>\n",
       "      <td>14105926363010</td>\n",
       "    </tr>\n",
       "    <tr>\n",
       "      <th>3</th>\n",
       "      <td>160013662</td>\n",
       "      <td>NON-CRIMINAL</td>\n",
       "      <td>LOST PROPERTY</td>\n",
       "      <td>Tuesday</td>\n",
       "      <td>01/05/2016 12:00:00 AM</td>\n",
       "      <td>23:50</td>\n",
       "      <td>TENDERLOIN</td>\n",
       "      <td>NONE</td>\n",
       "      <td>JONES ST / OFARRELL ST</td>\n",
       "      <td>-122.412971</td>\n",
       "      <td>37.785788</td>\n",
       "      <td>(37.7857883766888, -122.412970537591)</td>\n",
       "      <td>16001366271000</td>\n",
       "    </tr>\n",
       "    <tr>\n",
       "      <th>4</th>\n",
       "      <td>160002740</td>\n",
       "      <td>NON-CRIMINAL</td>\n",
       "      <td>LOST PROPERTY</td>\n",
       "      <td>Friday</td>\n",
       "      <td>01/01/2016 12:00:00 AM</td>\n",
       "      <td>00:30</td>\n",
       "      <td>MISSION</td>\n",
       "      <td>NONE</td>\n",
       "      <td>16TH ST / MISSION ST</td>\n",
       "      <td>-122.419672</td>\n",
       "      <td>37.765050</td>\n",
       "      <td>(37.7650501214668, -122.419671780296)</td>\n",
       "      <td>16000274071000</td>\n",
       "    </tr>\n",
       "  </tbody>\n",
       "</table>\n",
       "</div>"
      ],
      "text/plain": [
       "   IncidntNum      Category                                        Descript  \\\n",
       "0   120058272   WEAPON LAWS                       POSS OF PROHIBITED WEAPON   \n",
       "1   120058272   WEAPON LAWS  FIREARM, LOADED, IN VEHICLE, POSSESSION OR USE   \n",
       "2   141059263      WARRANTS                                  WARRANT ARREST   \n",
       "3   160013662  NON-CRIMINAL                                   LOST PROPERTY   \n",
       "4   160002740  NON-CRIMINAL                                   LOST PROPERTY   \n",
       "\n",
       "  DayOfWeek                    Date   Time  PdDistrict      Resolution  \\\n",
       "0    Friday  01/29/2016 12:00:00 AM  11:00    SOUTHERN  ARREST, BOOKED   \n",
       "1    Friday  01/29/2016 12:00:00 AM  11:00    SOUTHERN  ARREST, BOOKED   \n",
       "2    Monday  04/25/2016 12:00:00 AM  14:59     BAYVIEW  ARREST, BOOKED   \n",
       "3   Tuesday  01/05/2016 12:00:00 AM  23:50  TENDERLOIN            NONE   \n",
       "4    Friday  01/01/2016 12:00:00 AM  00:30     MISSION            NONE   \n",
       "\n",
       "                  Address           X          Y  \\\n",
       "0  800 Block of BRYANT ST -122.403405  37.775421   \n",
       "1  800 Block of BRYANT ST -122.403405  37.775421   \n",
       "2   KEITH ST / SHAFTER AV -122.388856  37.729981   \n",
       "3  JONES ST / OFARRELL ST -122.412971  37.785788   \n",
       "4    16TH ST / MISSION ST -122.419672  37.765050   \n",
       "\n",
       "                                Location            PdId  \n",
       "0   (37.775420706711, -122.403404791479)  12005827212120  \n",
       "1   (37.775420706711, -122.403404791479)  12005827212168  \n",
       "2  (37.7299809672996, -122.388856204292)  14105926363010  \n",
       "3  (37.7857883766888, -122.412970537591)  16001366271000  \n",
       "4  (37.7650501214668, -122.419671780296)  16000274071000  "
      ]
     },
     "execution_count": 14,
     "metadata": {},
     "output_type": "execute_result"
    }
   ],
   "source": [
    "df_incidents.head()"
   ]
  },
  {
   "cell_type": "markdown",
   "metadata": {
    "button": false,
    "new_sheet": false,
    "run_control": {
     "read_only": false
    }
   },
   "source": [
    "So each row consists of 13 features:\n",
    "> 1. **IncidntNum**: Incident Number\n",
    "> 2. **Category**: Category of crime or incident\n",
    "> 3. **Descript**: Description of the crime or incident\n",
    "> 4. **DayOfWeek**: The day of week on which the incident occurred\n",
    "> 5. **Date**: The Date on which the incident occurred\n",
    "> 6. **Time**: The time of day on which the incident occurred\n",
    "> 7. **PdDistrict**: The police department district\n",
    "> 8. **Resolution**: The resolution of the crime in terms whether the perpetrator was arrested or not\n",
    "> 9. **Address**: The closest address to where the incident took place\n",
    "> 10. **X**: The longitude value of the crime location \n",
    "> 11. **Y**: The latitude value of the crime location\n",
    "> 12. **Location**: A tuple of the latitude and the longitude values\n",
    "> 13. **PdId**: The police department ID"
   ]
  },
  {
   "cell_type": "markdown",
   "metadata": {
    "button": false,
    "new_sheet": false,
    "run_control": {
     "read_only": false
    }
   },
   "source": [
    "Let's find out how many entries there are in our dataset."
   ]
  },
  {
   "cell_type": "code",
   "execution_count": 15,
   "metadata": {
    "button": false,
    "new_sheet": false,
    "run_control": {
     "read_only": false
    }
   },
   "outputs": [
    {
     "data": {
      "text/plain": [
       "(150500, 13)"
      ]
     },
     "execution_count": 15,
     "metadata": {},
     "output_type": "execute_result"
    }
   ],
   "source": [
    "df_incidents.shape"
   ]
  },
  {
   "cell_type": "markdown",
   "metadata": {
    "button": false,
    "new_sheet": false,
    "run_control": {
     "read_only": false
    }
   },
   "source": [
    "So the dataframe consists of 150,500 crimes, which took place in the year 2016. In order to reduce computational cost, let's just work with the first 100 incidents in this dataset."
   ]
  },
  {
   "cell_type": "code",
   "execution_count": 16,
   "metadata": {
    "button": false,
    "new_sheet": false,
    "run_control": {
     "read_only": false
    }
   },
   "outputs": [],
   "source": [
    "# get the first 100 crimes in the df_incidents dataframe\n",
    "limit = 100\n",
    "df_incidents = df_incidents.iloc[0:limit, :]"
   ]
  },
  {
   "cell_type": "markdown",
   "metadata": {
    "button": false,
    "new_sheet": false,
    "run_control": {
     "read_only": false
    }
   },
   "source": [
    "Let's confirm that our dataframe now consists only of 100 crimes."
   ]
  },
  {
   "cell_type": "code",
   "execution_count": 17,
   "metadata": {
    "button": false,
    "new_sheet": false,
    "run_control": {
     "read_only": false
    }
   },
   "outputs": [
    {
     "data": {
      "text/plain": [
       "(100, 13)"
      ]
     },
     "execution_count": 17,
     "metadata": {},
     "output_type": "execute_result"
    }
   ],
   "source": [
    "df_incidents.shape"
   ]
  },
  {
   "cell_type": "markdown",
   "metadata": {
    "button": false,
    "new_sheet": false,
    "run_control": {
     "read_only": false
    }
   },
   "source": [
    "Now that we reduced the data a little bit, let's visualize where these crimes took place in the city of San Francisco. We will use the default style and we will initialize the zoom level to 12. "
   ]
  },
  {
   "cell_type": "code",
   "execution_count": 18,
   "metadata": {
    "button": false,
    "new_sheet": false,
    "run_control": {
     "read_only": false
    }
   },
   "outputs": [],
   "source": [
    "# San Francisco latitude and longitude values\n",
    "latitude = 37.77\n",
    "longitude = -122.42"
   ]
  },
  {
   "cell_type": "code",
   "execution_count": 19,
   "metadata": {
    "button": false,
    "new_sheet": false,
    "run_control": {
     "read_only": false
    }
   },
   "outputs": [
    {
     "data": {
      "text/html": [
       "<div style=\"width:100%;\"><div style=\"position:relative;width:100%;height:0;padding-bottom:60%;\"><span style=\"color:#565656\">Make this Notebook Trusted to load map: File -> Trust Notebook</span><iframe src=\"about:blank\" style=\"position:absolute;width:100%;height:100%;left:0;top:0;border:none !important;\" data-html=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 onload=\"this.contentDocument.open();this.contentDocument.write(atob(this.getAttribute('data-html')));this.contentDocument.close();\" allowfullscreen webkitallowfullscreen mozallowfullscreen></iframe></div></div>"
      ],
      "text/plain": [
       "<folium.folium.Map at 0x1c4658e3648>"
      ]
     },
     "execution_count": 19,
     "metadata": {},
     "output_type": "execute_result"
    }
   ],
   "source": [
    "# create map and display it\n",
    "sanfran_map = folium.Map(location=[latitude, longitude], zoom_start=12)\n",
    "\n",
    "# display the map of San Francisco\n",
    "sanfran_map"
   ]
  },
  {
   "cell_type": "markdown",
   "metadata": {
    "button": false,
    "new_sheet": false,
    "run_control": {
     "read_only": false
    }
   },
   "source": [
    "Now let's superimpose the locations of the crimes onto the map. The way to do that in **Folium** is to create a *feature group* with its own features and style and then add it to the sanfran_map."
   ]
  },
  {
   "cell_type": "code",
   "execution_count": 20,
   "metadata": {
    "button": false,
    "new_sheet": false,
    "run_control": {
     "read_only": false
    },
    "scrolled": false
   },
   "outputs": [
    {
     "ename": "AttributeError",
     "evalue": "module 'folium.features' has no attribute 'CircleMarker'",
     "output_type": "error",
     "traceback": [
      "\u001b[1;31m---------------------------------------------------------------------------\u001b[0m",
      "\u001b[1;31mAttributeError\u001b[0m                            Traceback (most recent call last)",
      "\u001b[1;32m<ipython-input-20-fb9eeb91a9aa>\u001b[0m in \u001b[0;36m<module>\u001b[1;34m\u001b[0m\n\u001b[0;32m      5\u001b[0m \u001b[1;32mfor\u001b[0m \u001b[0mlat\u001b[0m\u001b[1;33m,\u001b[0m \u001b[0mlng\u001b[0m\u001b[1;33m,\u001b[0m \u001b[1;32min\u001b[0m \u001b[0mzip\u001b[0m\u001b[1;33m(\u001b[0m\u001b[0mdf_incidents\u001b[0m\u001b[1;33m.\u001b[0m\u001b[0mY\u001b[0m\u001b[1;33m,\u001b[0m \u001b[0mdf_incidents\u001b[0m\u001b[1;33m.\u001b[0m\u001b[0mX\u001b[0m\u001b[1;33m)\u001b[0m\u001b[1;33m:\u001b[0m\u001b[1;33m\u001b[0m\u001b[1;33m\u001b[0m\u001b[0m\n\u001b[0;32m      6\u001b[0m     incidents.add_child(\n\u001b[1;32m----> 7\u001b[1;33m         folium.features.CircleMarker(\n\u001b[0m\u001b[0;32m      8\u001b[0m             \u001b[1;33m[\u001b[0m\u001b[0mlat\u001b[0m\u001b[1;33m,\u001b[0m \u001b[0mlng\u001b[0m\u001b[1;33m]\u001b[0m\u001b[1;33m,\u001b[0m\u001b[1;33m\u001b[0m\u001b[1;33m\u001b[0m\u001b[0m\n\u001b[0;32m      9\u001b[0m             \u001b[0mradius\u001b[0m\u001b[1;33m=\u001b[0m\u001b[1;36m5\u001b[0m\u001b[1;33m,\u001b[0m \u001b[1;31m# define how big you want the circle markers to be\u001b[0m\u001b[1;33m\u001b[0m\u001b[1;33m\u001b[0m\u001b[0m\n",
      "\u001b[1;31mAttributeError\u001b[0m: module 'folium.features' has no attribute 'CircleMarker'"
     ]
    }
   ],
   "source": [
    "# instantiate a feature group for the incidents in the dataframe\n",
    "incidents = folium.map.FeatureGroup()\n",
    "\n",
    "# loop through the 100 crimes and add each to the incidents feature group\n",
    "for lat, lng, in zip(df_incidents.Y, df_incidents.X):\n",
    "    incidents.add_child(\n",
    "        folium.features.CircleMarker(\n",
    "            [lat, lng],\n",
    "            radius=5, # define how big you want the circle markers to be\n",
    "            color='yellow',\n",
    "            fill=True,\n",
    "            fill_color='blue',\n",
    "            fill_opacity=0.6\n",
    "        )\n",
    "    )\n",
    "\n",
    "# add incidents to map\n",
    "sanfran_map.add_child(incidents)"
   ]
  },
  {
   "cell_type": "markdown",
   "metadata": {
    "button": false,
    "new_sheet": false,
    "run_control": {
     "read_only": false
    }
   },
   "source": [
    "You can also add some pop-up text that would get displayed when you hover over a marker. Let's make each marker display the category of the crime when hovered over."
   ]
  },
  {
   "cell_type": "code",
   "execution_count": 1,
   "metadata": {
    "button": false,
    "new_sheet": false,
    "run_control": {
     "read_only": false
    },
    "scrolled": false
   },
   "outputs": [
    {
     "ename": "NameError",
     "evalue": "name 'folium' is not defined",
     "output_type": "error",
     "traceback": [
      "\u001b[1;31m---------------------------------------------------------------------------\u001b[0m",
      "\u001b[1;31mNameError\u001b[0m                                 Traceback (most recent call last)",
      "\u001b[1;32m<ipython-input-1-941d08d09650>\u001b[0m in \u001b[0;36m<module>\u001b[1;34m\u001b[0m\n\u001b[0;32m      1\u001b[0m \u001b[1;31m# instantiate a feature group for the incidents in the dataframe\u001b[0m\u001b[1;33m\u001b[0m\u001b[1;33m\u001b[0m\u001b[1;33m\u001b[0m\u001b[0m\n\u001b[1;32m----> 2\u001b[1;33m \u001b[0mincidents\u001b[0m \u001b[1;33m=\u001b[0m \u001b[0mfolium\u001b[0m\u001b[1;33m.\u001b[0m\u001b[0mmap\u001b[0m\u001b[1;33m.\u001b[0m\u001b[0mFeatureGroup\u001b[0m\u001b[1;33m(\u001b[0m\u001b[1;33m)\u001b[0m\u001b[1;33m\u001b[0m\u001b[1;33m\u001b[0m\u001b[0m\n\u001b[0m\u001b[0;32m      3\u001b[0m \u001b[1;33m\u001b[0m\u001b[0m\n\u001b[0;32m      4\u001b[0m \u001b[1;31m# loop through the 100 crimes and add each to the incidents feature group\u001b[0m\u001b[1;33m\u001b[0m\u001b[1;33m\u001b[0m\u001b[1;33m\u001b[0m\u001b[0m\n\u001b[0;32m      5\u001b[0m \u001b[1;32mfor\u001b[0m \u001b[0mlat\u001b[0m\u001b[1;33m,\u001b[0m \u001b[0mlng\u001b[0m\u001b[1;33m,\u001b[0m \u001b[1;32min\u001b[0m \u001b[0mzip\u001b[0m\u001b[1;33m(\u001b[0m\u001b[0mdf_incidents\u001b[0m\u001b[1;33m.\u001b[0m\u001b[0mY\u001b[0m\u001b[1;33m,\u001b[0m \u001b[0mdf_incidents\u001b[0m\u001b[1;33m.\u001b[0m\u001b[0mX\u001b[0m\u001b[1;33m)\u001b[0m\u001b[1;33m:\u001b[0m\u001b[1;33m\u001b[0m\u001b[1;33m\u001b[0m\u001b[0m\n",
      "\u001b[1;31mNameError\u001b[0m: name 'folium' is not defined"
     ]
    }
   ],
   "source": [
    "# instantiate a feature group for the incidents in the dataframe\n",
    "incidents = folium.map.FeatureGroup()\n",
    "\n",
    "# loop through the 100 crimes and add each to the incidents feature group\n",
    "for lat, lng, in zip(df_incidents.Y, df_incidents.X):\n",
    "    incidents.add_child(\n",
    "        folium.features.CircleMarker(\n",
    "            [lat, lng],\n",
    "            radius=5, # define how big you want the circle markers to be\n",
    "            color='yellow',\n",
    "            fill=True,\n",
    "            fill_color='blue',\n",
    "            fill_opacity=0.6\n",
    "        )\n",
    "    )\n",
    "\n",
    "# add pop-up text to each marker on the map\n",
    "latitudes = list(df_incidents.Y)\n",
    "longitudes = list(df_incidents.X)\n",
    "labels = list(df_incidents.Category)\n",
    "\n",
    "for lat, lng, label in zip(latitudes, longitudes, labels):\n",
    "    folium.Marker([lat, lng], popup=label).add_to(sanfran_map)    \n",
    "    \n",
    "# add incidents to map\n",
    "sanfran_map.add_child(incidents)"
   ]
  },
  {
   "cell_type": "markdown",
   "metadata": {
    "button": false,
    "new_sheet": false,
    "run_control": {
     "read_only": false
    }
   },
   "source": [
    "Isn't this really cool? Now you are able to know what crime category occurred at each marker.\n",
    "\n",
    "If you find the map to be so congested will all these markers, there are two remedies to this problem. The simpler solution is to remove these location markers and just add the text to the circle markers themselves as follows:"
   ]
  },
  {
   "cell_type": "code",
   "execution_count": 22,
   "metadata": {
    "button": false,
    "new_sheet": false,
    "run_control": {
     "read_only": false
    }
   },
   "outputs": [
    {
     "ename": "AttributeError",
     "evalue": "module 'folium.features' has no attribute 'CircleMarker'",
     "output_type": "error",
     "traceback": [
      "\u001b[1;31m---------------------------------------------------------------------------\u001b[0m",
      "\u001b[1;31mAttributeError\u001b[0m                            Traceback (most recent call last)",
      "\u001b[1;32m<ipython-input-22-c1af58bb29b7>\u001b[0m in \u001b[0;36m<module>\u001b[1;34m\u001b[0m\n\u001b[0;32m      4\u001b[0m \u001b[1;31m# loop through the 100 crimes and add each to the map\u001b[0m\u001b[1;33m\u001b[0m\u001b[1;33m\u001b[0m\u001b[1;33m\u001b[0m\u001b[0m\n\u001b[0;32m      5\u001b[0m \u001b[1;32mfor\u001b[0m \u001b[0mlat\u001b[0m\u001b[1;33m,\u001b[0m \u001b[0mlng\u001b[0m\u001b[1;33m,\u001b[0m \u001b[0mlabel\u001b[0m \u001b[1;32min\u001b[0m \u001b[0mzip\u001b[0m\u001b[1;33m(\u001b[0m\u001b[0mdf_incidents\u001b[0m\u001b[1;33m.\u001b[0m\u001b[0mY\u001b[0m\u001b[1;33m,\u001b[0m \u001b[0mdf_incidents\u001b[0m\u001b[1;33m.\u001b[0m\u001b[0mX\u001b[0m\u001b[1;33m,\u001b[0m \u001b[0mdf_incidents\u001b[0m\u001b[1;33m.\u001b[0m\u001b[0mCategory\u001b[0m\u001b[1;33m)\u001b[0m\u001b[1;33m:\u001b[0m\u001b[1;33m\u001b[0m\u001b[1;33m\u001b[0m\u001b[0m\n\u001b[1;32m----> 6\u001b[1;33m     folium.features.CircleMarker(\n\u001b[0m\u001b[0;32m      7\u001b[0m         \u001b[1;33m[\u001b[0m\u001b[0mlat\u001b[0m\u001b[1;33m,\u001b[0m \u001b[0mlng\u001b[0m\u001b[1;33m]\u001b[0m\u001b[1;33m,\u001b[0m\u001b[1;33m\u001b[0m\u001b[1;33m\u001b[0m\u001b[0m\n\u001b[0;32m      8\u001b[0m         \u001b[0mradius\u001b[0m\u001b[1;33m=\u001b[0m\u001b[1;36m5\u001b[0m\u001b[1;33m,\u001b[0m \u001b[1;31m# define how big you want the circle markers to be\u001b[0m\u001b[1;33m\u001b[0m\u001b[1;33m\u001b[0m\u001b[0m\n",
      "\u001b[1;31mAttributeError\u001b[0m: module 'folium.features' has no attribute 'CircleMarker'"
     ]
    }
   ],
   "source": [
    "# create map and display it\n",
    "sanfran_map = folium.Map(location=[latitude, longitude], zoom_start=12)\n",
    "\n",
    "# loop through the 100 crimes and add each to the map\n",
    "for lat, lng, label in zip(df_incidents.Y, df_incidents.X, df_incidents.Category):\n",
    "    folium.features.CircleMarker(\n",
    "        [lat, lng],\n",
    "        radius=5, # define how big you want the circle markers to be\n",
    "        color='yellow',\n",
    "        fill=True,\n",
    "        popup=label,\n",
    "        fill_color='blue',\n",
    "        fill_opacity=0.6\n",
    "    ).add_to(sanfran_map)\n",
    "\n",
    "# show map\n",
    "sanfran_map"
   ]
  },
  {
   "cell_type": "markdown",
   "metadata": {
    "button": false,
    "new_sheet": false,
    "run_control": {
     "read_only": false
    }
   },
   "source": [
    "The other proper remedy is to group the markers into different clusters. Each cluster is then represented by the number of crimes in each neighborhood. These clusters can be thought of as pockets of San Francisco which you can then analyze separately.\n",
    "\n",
    "To implement this, we start off by instantiating a *MarkerCluster* object and adding all the data points in the dataframe to this object."
   ]
  },
  {
   "cell_type": "code",
   "execution_count": 23,
   "metadata": {
    "button": false,
    "new_sheet": false,
    "run_control": {
     "read_only": false
    }
   },
   "outputs": [
    {
     "data": {
      "text/html": [
       "<div style=\"width:100%;\"><div style=\"position:relative;width:100%;height:0;padding-bottom:60%;\"><span style=\"color:#565656\">Make this Notebook Trusted to load map: File -> Trust Notebook</span><iframe src=\"about:blank\" style=\"position:absolute;width:100%;height:100%;left:0;top:0;border:none !important;\" data-html=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 onload=\"this.contentDocument.open();this.contentDocument.write(atob(this.getAttribute('data-html')));this.contentDocument.close();\" allowfullscreen webkitallowfullscreen mozallowfullscreen></iframe></div></div>"
      ],
      "text/plain": [
       "<folium.folium.Map at 0x1c465697148>"
      ]
     },
     "execution_count": 23,
     "metadata": {},
     "output_type": "execute_result"
    }
   ],
   "source": [
    "from folium import plugins\n",
    "\n",
    "# let's start again with a clean copy of the map of San Francisco\n",
    "sanfran_map = folium.Map(location = [latitude, longitude], zoom_start = 12)\n",
    "\n",
    "# instantiate a mark cluster object for the incidents in the dataframe\n",
    "incidents = plugins.MarkerCluster().add_to(sanfran_map)\n",
    "\n",
    "# loop through the dataframe and add each data point to the mark cluster\n",
    "for lat, lng, label, in zip(df_incidents.Y, df_incidents.X, df_incidents.Category):\n",
    "    folium.Marker(\n",
    "        location=[lat, lng],\n",
    "        icon=None,\n",
    "        popup=label,\n",
    "    ).add_to(incidents)\n",
    "\n",
    "# display map\n",
    "sanfran_map"
   ]
  },
  {
   "cell_type": "markdown",
   "metadata": {
    "button": false,
    "new_sheet": false,
    "run_control": {
     "read_only": false
    }
   },
   "source": [
    "Notice how when you zoom out all the way, all markers are grouped into one cluster, *the global cluster*, of 100 markers or crimes, which is the total number of crimes in our dataframe. Once you start zooming in, the *global cluster* will start breaking up into smaller clusters. Zooming in all the way will result in individual markers."
   ]
  },
  {
   "cell_type": "markdown",
   "metadata": {
    "button": false,
    "new_sheet": false,
    "run_control": {
     "read_only": false
    }
   },
   "source": [
    "# Choropleth Maps <a id=\"8\"></a>\n",
    "\n",
    "A `Choropleth` map is a thematic map in which areas are shaded or patterned in proportion to the measurement of the statistical variable being displayed on the map, such as population density or per-capita income. The choropleth map provides an easy way to visualize how a measurement varies across a geographic area or it shows the level of variability within a region. Below is a `Choropleth` map of the US depicting the population by square mile per state.\n",
    "\n",
    "<img src = \"https://s3-api.us-geo.objectstorage.softlayer.net/cf-courses-data/CognitiveClass/DV0101EN/labs/Images/2000_census_population_density_map_by_state.png\" width = 600> "
   ]
  },
  {
   "cell_type": "markdown",
   "metadata": {
    "button": false,
    "new_sheet": false,
    "run_control": {
     "read_only": false
    }
   },
   "source": [
    "Now, let's create our own `Choropleth` map of the world depicting immigration from various countries to Canada.\n",
    "\n",
    "Let's first download and import our primary Canadian immigration dataset using *pandas* `read_excel()` method. Normally, before we can do that, we would need to download a module which *pandas* requires to read in excel files. This module is **xlrd**. For your convenience, we have pre-installed this module, so you would not have to worry about that. Otherwise, you would need to run the following line of code to install the **xlrd** module:\n",
    "```\n",
    "!conda install -c anaconda xlrd --yes\n",
    "```"
   ]
  },
  {
   "cell_type": "markdown",
   "metadata": {
    "button": false,
    "new_sheet": false,
    "run_control": {
     "read_only": false
    }
   },
   "source": [
    "Download the dataset and read it into a *pandas* dataframe:"
   ]
  },
  {
   "cell_type": "code",
   "execution_count": 24,
   "metadata": {
    "button": false,
    "new_sheet": false,
    "run_control": {
     "read_only": false
    }
   },
   "outputs": [
    {
     "name": "stdout",
     "output_type": "stream",
     "text": [
      "Data downloaded and read into a dataframe!\n"
     ]
    }
   ],
   "source": [
    "df_can = pd.read_excel('https://s3-api.us-geo.objectstorage.softlayer.net/cf-courses-data/CognitiveClass/DV0101EN/labs/Data_Files/Canada.xlsx',\n",
    "                     sheet_name='Canada by Citizenship',\n",
    "                     skiprows=range(20),\n",
    "                     skipfooter=2)\n",
    "\n",
    "print('Data downloaded and read into a dataframe!')"
   ]
  },
  {
   "cell_type": "markdown",
   "metadata": {
    "button": false,
    "new_sheet": false,
    "run_control": {
     "read_only": false
    }
   },
   "source": [
    "Let's take a look at the first five items in our dataset."
   ]
  },
  {
   "cell_type": "code",
   "execution_count": 25,
   "metadata": {
    "button": false,
    "new_sheet": false,
    "run_control": {
     "read_only": false
    },
    "scrolled": true
   },
   "outputs": [
    {
     "data": {
      "text/html": [
       "<div>\n",
       "<style scoped>\n",
       "    .dataframe tbody tr th:only-of-type {\n",
       "        vertical-align: middle;\n",
       "    }\n",
       "\n",
       "    .dataframe tbody tr th {\n",
       "        vertical-align: top;\n",
       "    }\n",
       "\n",
       "    .dataframe thead th {\n",
       "        text-align: right;\n",
       "    }\n",
       "</style>\n",
       "<table border=\"1\" class=\"dataframe\">\n",
       "  <thead>\n",
       "    <tr style=\"text-align: right;\">\n",
       "      <th></th>\n",
       "      <th>Type</th>\n",
       "      <th>Coverage</th>\n",
       "      <th>OdName</th>\n",
       "      <th>AREA</th>\n",
       "      <th>AreaName</th>\n",
       "      <th>REG</th>\n",
       "      <th>RegName</th>\n",
       "      <th>DEV</th>\n",
       "      <th>DevName</th>\n",
       "      <th>1980</th>\n",
       "      <th>...</th>\n",
       "      <th>2004</th>\n",
       "      <th>2005</th>\n",
       "      <th>2006</th>\n",
       "      <th>2007</th>\n",
       "      <th>2008</th>\n",
       "      <th>2009</th>\n",
       "      <th>2010</th>\n",
       "      <th>2011</th>\n",
       "      <th>2012</th>\n",
       "      <th>2013</th>\n",
       "    </tr>\n",
       "  </thead>\n",
       "  <tbody>\n",
       "    <tr>\n",
       "      <th>0</th>\n",
       "      <td>Immigrants</td>\n",
       "      <td>Foreigners</td>\n",
       "      <td>Afghanistan</td>\n",
       "      <td>935</td>\n",
       "      <td>Asia</td>\n",
       "      <td>5501</td>\n",
       "      <td>Southern Asia</td>\n",
       "      <td>902</td>\n",
       "      <td>Developing regions</td>\n",
       "      <td>16</td>\n",
       "      <td>...</td>\n",
       "      <td>2978</td>\n",
       "      <td>3436</td>\n",
       "      <td>3009</td>\n",
       "      <td>2652</td>\n",
       "      <td>2111</td>\n",
       "      <td>1746</td>\n",
       "      <td>1758</td>\n",
       "      <td>2203</td>\n",
       "      <td>2635</td>\n",
       "      <td>2004</td>\n",
       "    </tr>\n",
       "    <tr>\n",
       "      <th>1</th>\n",
       "      <td>Immigrants</td>\n",
       "      <td>Foreigners</td>\n",
       "      <td>Albania</td>\n",
       "      <td>908</td>\n",
       "      <td>Europe</td>\n",
       "      <td>925</td>\n",
       "      <td>Southern Europe</td>\n",
       "      <td>901</td>\n",
       "      <td>Developed regions</td>\n",
       "      <td>1</td>\n",
       "      <td>...</td>\n",
       "      <td>1450</td>\n",
       "      <td>1223</td>\n",
       "      <td>856</td>\n",
       "      <td>702</td>\n",
       "      <td>560</td>\n",
       "      <td>716</td>\n",
       "      <td>561</td>\n",
       "      <td>539</td>\n",
       "      <td>620</td>\n",
       "      <td>603</td>\n",
       "    </tr>\n",
       "    <tr>\n",
       "      <th>2</th>\n",
       "      <td>Immigrants</td>\n",
       "      <td>Foreigners</td>\n",
       "      <td>Algeria</td>\n",
       "      <td>903</td>\n",
       "      <td>Africa</td>\n",
       "      <td>912</td>\n",
       "      <td>Northern Africa</td>\n",
       "      <td>902</td>\n",
       "      <td>Developing regions</td>\n",
       "      <td>80</td>\n",
       "      <td>...</td>\n",
       "      <td>3616</td>\n",
       "      <td>3626</td>\n",
       "      <td>4807</td>\n",
       "      <td>3623</td>\n",
       "      <td>4005</td>\n",
       "      <td>5393</td>\n",
       "      <td>4752</td>\n",
       "      <td>4325</td>\n",
       "      <td>3774</td>\n",
       "      <td>4331</td>\n",
       "    </tr>\n",
       "    <tr>\n",
       "      <th>3</th>\n",
       "      <td>Immigrants</td>\n",
       "      <td>Foreigners</td>\n",
       "      <td>American Samoa</td>\n",
       "      <td>909</td>\n",
       "      <td>Oceania</td>\n",
       "      <td>957</td>\n",
       "      <td>Polynesia</td>\n",
       "      <td>902</td>\n",
       "      <td>Developing regions</td>\n",
       "      <td>0</td>\n",
       "      <td>...</td>\n",
       "      <td>0</td>\n",
       "      <td>0</td>\n",
       "      <td>1</td>\n",
       "      <td>0</td>\n",
       "      <td>0</td>\n",
       "      <td>0</td>\n",
       "      <td>0</td>\n",
       "      <td>0</td>\n",
       "      <td>0</td>\n",
       "      <td>0</td>\n",
       "    </tr>\n",
       "    <tr>\n",
       "      <th>4</th>\n",
       "      <td>Immigrants</td>\n",
       "      <td>Foreigners</td>\n",
       "      <td>Andorra</td>\n",
       "      <td>908</td>\n",
       "      <td>Europe</td>\n",
       "      <td>925</td>\n",
       "      <td>Southern Europe</td>\n",
       "      <td>901</td>\n",
       "      <td>Developed regions</td>\n",
       "      <td>0</td>\n",
       "      <td>...</td>\n",
       "      <td>0</td>\n",
       "      <td>0</td>\n",
       "      <td>1</td>\n",
       "      <td>1</td>\n",
       "      <td>0</td>\n",
       "      <td>0</td>\n",
       "      <td>0</td>\n",
       "      <td>0</td>\n",
       "      <td>1</td>\n",
       "      <td>1</td>\n",
       "    </tr>\n",
       "  </tbody>\n",
       "</table>\n",
       "<p>5 rows × 43 columns</p>\n",
       "</div>"
      ],
      "text/plain": [
       "         Type    Coverage          OdName  AREA AreaName   REG  \\\n",
       "0  Immigrants  Foreigners     Afghanistan   935     Asia  5501   \n",
       "1  Immigrants  Foreigners         Albania   908   Europe   925   \n",
       "2  Immigrants  Foreigners         Algeria   903   Africa   912   \n",
       "3  Immigrants  Foreigners  American Samoa   909  Oceania   957   \n",
       "4  Immigrants  Foreigners         Andorra   908   Europe   925   \n",
       "\n",
       "           RegName  DEV             DevName  1980  ...  2004  2005  2006  \\\n",
       "0    Southern Asia  902  Developing regions    16  ...  2978  3436  3009   \n",
       "1  Southern Europe  901   Developed regions     1  ...  1450  1223   856   \n",
       "2  Northern Africa  902  Developing regions    80  ...  3616  3626  4807   \n",
       "3        Polynesia  902  Developing regions     0  ...     0     0     1   \n",
       "4  Southern Europe  901   Developed regions     0  ...     0     0     1   \n",
       "\n",
       "   2007  2008  2009  2010  2011  2012  2013  \n",
       "0  2652  2111  1746  1758  2203  2635  2004  \n",
       "1   702   560   716   561   539   620   603  \n",
       "2  3623  4005  5393  4752  4325  3774  4331  \n",
       "3     0     0     0     0     0     0     0  \n",
       "4     1     0     0     0     0     1     1  \n",
       "\n",
       "[5 rows x 43 columns]"
      ]
     },
     "execution_count": 25,
     "metadata": {},
     "output_type": "execute_result"
    }
   ],
   "source": [
    "df_can.head()"
   ]
  },
  {
   "cell_type": "markdown",
   "metadata": {
    "button": false,
    "new_sheet": false,
    "run_control": {
     "read_only": false
    }
   },
   "source": [
    "Let's find out how many entries there are in our dataset."
   ]
  },
  {
   "cell_type": "code",
   "execution_count": 26,
   "metadata": {
    "button": false,
    "new_sheet": false,
    "run_control": {
     "read_only": false
    }
   },
   "outputs": [
    {
     "name": "stdout",
     "output_type": "stream",
     "text": [
      "(195, 43)\n"
     ]
    }
   ],
   "source": [
    "# print the dimensions of the dataframe\n",
    "print(df_can.shape)"
   ]
  },
  {
   "cell_type": "markdown",
   "metadata": {
    "button": false,
    "new_sheet": false,
    "run_control": {
     "read_only": false
    }
   },
   "source": [
    "Clean up data. We will make some modifications to the original dataset to make it easier to create our visualizations. Refer to *Introduction to Matplotlib and Line Plots* and *Area Plots, Histograms, and Bar Plots* notebooks for a detailed description of this preprocessing."
   ]
  },
  {
   "cell_type": "code",
   "execution_count": 27,
   "metadata": {
    "button": false,
    "new_sheet": false,
    "run_control": {
     "read_only": false
    },
    "scrolled": true
   },
   "outputs": [
    {
     "name": "stdout",
     "output_type": "stream",
     "text": [
      "data dimensions: (195, 39)\n"
     ]
    }
   ],
   "source": [
    "# clean up the dataset to remove unnecessary columns (eg. REG) \n",
    "df_can.drop(['AREA','REG','DEV','Type','Coverage'], axis=1, inplace=True)\n",
    "\n",
    "# let's rename the columns so that they make sense\n",
    "df_can.rename(columns={'OdName':'Country', 'AreaName':'Continent','RegName':'Region'}, inplace=True)\n",
    "\n",
    "# for sake of consistency, let's also make all column labels of type string\n",
    "df_can.columns = list(map(str, df_can.columns))\n",
    "\n",
    "# add total column\n",
    "df_can['Total'] = df_can.sum(axis=1)\n",
    "\n",
    "# years that we will be using in this lesson - useful for plotting later on\n",
    "years = list(map(str, range(1980, 2014)))\n",
    "print ('data dimensions:', df_can.shape)"
   ]
  },
  {
   "cell_type": "markdown",
   "metadata": {
    "button": false,
    "new_sheet": false,
    "run_control": {
     "read_only": false
    }
   },
   "source": [
    "Let's take a look at the first five items of our cleaned dataframe."
   ]
  },
  {
   "cell_type": "code",
   "execution_count": 28,
   "metadata": {
    "button": false,
    "new_sheet": false,
    "run_control": {
     "read_only": false
    }
   },
   "outputs": [
    {
     "data": {
      "text/html": [
       "<div>\n",
       "<style scoped>\n",
       "    .dataframe tbody tr th:only-of-type {\n",
       "        vertical-align: middle;\n",
       "    }\n",
       "\n",
       "    .dataframe tbody tr th {\n",
       "        vertical-align: top;\n",
       "    }\n",
       "\n",
       "    .dataframe thead th {\n",
       "        text-align: right;\n",
       "    }\n",
       "</style>\n",
       "<table border=\"1\" class=\"dataframe\">\n",
       "  <thead>\n",
       "    <tr style=\"text-align: right;\">\n",
       "      <th></th>\n",
       "      <th>Country</th>\n",
       "      <th>Continent</th>\n",
       "      <th>Region</th>\n",
       "      <th>DevName</th>\n",
       "      <th>1980</th>\n",
       "      <th>1981</th>\n",
       "      <th>1982</th>\n",
       "      <th>1983</th>\n",
       "      <th>1984</th>\n",
       "      <th>1985</th>\n",
       "      <th>...</th>\n",
       "      <th>2005</th>\n",
       "      <th>2006</th>\n",
       "      <th>2007</th>\n",
       "      <th>2008</th>\n",
       "      <th>2009</th>\n",
       "      <th>2010</th>\n",
       "      <th>2011</th>\n",
       "      <th>2012</th>\n",
       "      <th>2013</th>\n",
       "      <th>Total</th>\n",
       "    </tr>\n",
       "  </thead>\n",
       "  <tbody>\n",
       "    <tr>\n",
       "      <th>0</th>\n",
       "      <td>Afghanistan</td>\n",
       "      <td>Asia</td>\n",
       "      <td>Southern Asia</td>\n",
       "      <td>Developing regions</td>\n",
       "      <td>16</td>\n",
       "      <td>39</td>\n",
       "      <td>39</td>\n",
       "      <td>47</td>\n",
       "      <td>71</td>\n",
       "      <td>340</td>\n",
       "      <td>...</td>\n",
       "      <td>3436</td>\n",
       "      <td>3009</td>\n",
       "      <td>2652</td>\n",
       "      <td>2111</td>\n",
       "      <td>1746</td>\n",
       "      <td>1758</td>\n",
       "      <td>2203</td>\n",
       "      <td>2635</td>\n",
       "      <td>2004</td>\n",
       "      <td>58639</td>\n",
       "    </tr>\n",
       "    <tr>\n",
       "      <th>1</th>\n",
       "      <td>Albania</td>\n",
       "      <td>Europe</td>\n",
       "      <td>Southern Europe</td>\n",
       "      <td>Developed regions</td>\n",
       "      <td>1</td>\n",
       "      <td>0</td>\n",
       "      <td>0</td>\n",
       "      <td>0</td>\n",
       "      <td>0</td>\n",
       "      <td>0</td>\n",
       "      <td>...</td>\n",
       "      <td>1223</td>\n",
       "      <td>856</td>\n",
       "      <td>702</td>\n",
       "      <td>560</td>\n",
       "      <td>716</td>\n",
       "      <td>561</td>\n",
       "      <td>539</td>\n",
       "      <td>620</td>\n",
       "      <td>603</td>\n",
       "      <td>15699</td>\n",
       "    </tr>\n",
       "    <tr>\n",
       "      <th>2</th>\n",
       "      <td>Algeria</td>\n",
       "      <td>Africa</td>\n",
       "      <td>Northern Africa</td>\n",
       "      <td>Developing regions</td>\n",
       "      <td>80</td>\n",
       "      <td>67</td>\n",
       "      <td>71</td>\n",
       "      <td>69</td>\n",
       "      <td>63</td>\n",
       "      <td>44</td>\n",
       "      <td>...</td>\n",
       "      <td>3626</td>\n",
       "      <td>4807</td>\n",
       "      <td>3623</td>\n",
       "      <td>4005</td>\n",
       "      <td>5393</td>\n",
       "      <td>4752</td>\n",
       "      <td>4325</td>\n",
       "      <td>3774</td>\n",
       "      <td>4331</td>\n",
       "      <td>69439</td>\n",
       "    </tr>\n",
       "    <tr>\n",
       "      <th>3</th>\n",
       "      <td>American Samoa</td>\n",
       "      <td>Oceania</td>\n",
       "      <td>Polynesia</td>\n",
       "      <td>Developing regions</td>\n",
       "      <td>0</td>\n",
       "      <td>1</td>\n",
       "      <td>0</td>\n",
       "      <td>0</td>\n",
       "      <td>0</td>\n",
       "      <td>0</td>\n",
       "      <td>...</td>\n",
       "      <td>0</td>\n",
       "      <td>1</td>\n",
       "      <td>0</td>\n",
       "      <td>0</td>\n",
       "      <td>0</td>\n",
       "      <td>0</td>\n",
       "      <td>0</td>\n",
       "      <td>0</td>\n",
       "      <td>0</td>\n",
       "      <td>6</td>\n",
       "    </tr>\n",
       "    <tr>\n",
       "      <th>4</th>\n",
       "      <td>Andorra</td>\n",
       "      <td>Europe</td>\n",
       "      <td>Southern Europe</td>\n",
       "      <td>Developed regions</td>\n",
       "      <td>0</td>\n",
       "      <td>0</td>\n",
       "      <td>0</td>\n",
       "      <td>0</td>\n",
       "      <td>0</td>\n",
       "      <td>0</td>\n",
       "      <td>...</td>\n",
       "      <td>0</td>\n",
       "      <td>1</td>\n",
       "      <td>1</td>\n",
       "      <td>0</td>\n",
       "      <td>0</td>\n",
       "      <td>0</td>\n",
       "      <td>0</td>\n",
       "      <td>1</td>\n",
       "      <td>1</td>\n",
       "      <td>15</td>\n",
       "    </tr>\n",
       "  </tbody>\n",
       "</table>\n",
       "<p>5 rows × 39 columns</p>\n",
       "</div>"
      ],
      "text/plain": [
       "          Country Continent           Region             DevName  1980  1981  \\\n",
       "0     Afghanistan      Asia    Southern Asia  Developing regions    16    39   \n",
       "1         Albania    Europe  Southern Europe   Developed regions     1     0   \n",
       "2         Algeria    Africa  Northern Africa  Developing regions    80    67   \n",
       "3  American Samoa   Oceania        Polynesia  Developing regions     0     1   \n",
       "4         Andorra    Europe  Southern Europe   Developed regions     0     0   \n",
       "\n",
       "   1982  1983  1984  1985  ...  2005  2006  2007  2008  2009  2010  2011  \\\n",
       "0    39    47    71   340  ...  3436  3009  2652  2111  1746  1758  2203   \n",
       "1     0     0     0     0  ...  1223   856   702   560   716   561   539   \n",
       "2    71    69    63    44  ...  3626  4807  3623  4005  5393  4752  4325   \n",
       "3     0     0     0     0  ...     0     1     0     0     0     0     0   \n",
       "4     0     0     0     0  ...     0     1     1     0     0     0     0   \n",
       "\n",
       "   2012  2013  Total  \n",
       "0  2635  2004  58639  \n",
       "1   620   603  15699  \n",
       "2  3774  4331  69439  \n",
       "3     0     0      6  \n",
       "4     1     1     15  \n",
       "\n",
       "[5 rows x 39 columns]"
      ]
     },
     "execution_count": 28,
     "metadata": {},
     "output_type": "execute_result"
    }
   ],
   "source": [
    "df_can.head()"
   ]
  },
  {
   "cell_type": "markdown",
   "metadata": {
    "button": false,
    "new_sheet": false,
    "run_control": {
     "read_only": false
    }
   },
   "source": [
    "In order to create a `Choropleth` map, we need a GeoJSON file that defines the areas/boundaries of the state, county, or country that we are interested in. In our case, since we are endeavoring to create a world map, we want a GeoJSON that defines the boundaries of all world countries. For your convenience, we will be providing you with this file, so let's go ahead and download it. Let's name it **world_countries.json**."
   ]
  },
  {
   "cell_type": "code",
   "execution_count": 29,
   "metadata": {
    "button": false,
    "new_sheet": false,
    "run_control": {
     "read_only": false
    }
   },
   "outputs": [
    {
     "name": "stdout",
     "output_type": "stream",
     "text": [
      "GeoJSON file downloaded!\n"
     ]
    },
    {
     "name": "stderr",
     "output_type": "stream",
     "text": [
      "'wget' is not recognized as an internal or external command,\n",
      "operable program or batch file.\n"
     ]
    }
   ],
   "source": [
    "# download countries geojson file\n",
    "!wget --quiet https://s3-api.us-geo.objectstorage.softlayer.net/cf-courses-data/CognitiveClass/DV0101EN/labs/Data_Files/world_countries.json -O world_countries.json\n",
    "    \n",
    "print('GeoJSON file downloaded!')"
   ]
  },
  {
   "cell_type": "markdown",
   "metadata": {
    "button": false,
    "new_sheet": false,
    "run_control": {
     "read_only": false
    }
   },
   "source": [
    "Now that we have the GeoJSON file, let's create a world map, centered around **[0, 0]** *latitude* and *longitude* values, with an intial zoom level of 2, and using *Mapbox Bright* style."
   ]
  },
  {
   "cell_type": "code",
   "execution_count": null,
   "metadata": {
    "button": false,
    "new_sheet": false,
    "run_control": {
     "read_only": false
    }
   },
   "outputs": [],
   "source": [
    "world_geo = r'world_countries.json' # geojson file\n",
    "\n",
    "# create a plain world map\n",
    "world_map = folium.Map(location=[0, 0], zoom_start=2, tiles='Mapbox Bright')"
   ]
  },
  {
   "cell_type": "markdown",
   "metadata": {
    "button": false,
    "new_sheet": false,
    "run_control": {
     "read_only": false
    }
   },
   "source": [
    "And now to create a `Choropleth` map, we will use the *choropleth* method with the following main parameters:\n",
    "\n",
    "1. geo_data, which is the GeoJSON file.\n",
    "2. data, which is the dataframe containing the data.\n",
    "3. columns, which represents the columns in the dataframe that will be used to create the `Choropleth` map.\n",
    "4. key_on, which is the key or variable in the GeoJSON file that contains the name of the variable of interest. To determine that, you will need to open the GeoJSON file using any text editor and note the name of the key or variable that contains the name of the countries, since the countries are our variable of interest. In this case, **name** is the key in the GeoJSON file that contains the name of the countries. Note that this key is case_sensitive, so you need to pass exactly as it exists in the GeoJSON file."
   ]
  },
  {
   "cell_type": "code",
   "execution_count": 30,
   "metadata": {
    "button": false,
    "new_sheet": false,
    "run_control": {
     "read_only": false
    }
   },
   "outputs": [
    {
     "ename": "NameError",
     "evalue": "name 'world_geo' is not defined",
     "output_type": "error",
     "traceback": [
      "\u001b[1;31m---------------------------------------------------------------------------\u001b[0m",
      "\u001b[1;31mNameError\u001b[0m                                 Traceback (most recent call last)",
      "\u001b[1;32m<ipython-input-30-7f184a1f0918>\u001b[0m in \u001b[0;36m<module>\u001b[1;34m\u001b[0m\n\u001b[0;32m      1\u001b[0m \u001b[1;31m# generate choropleth map using the total immigration of each country to Canada from 1980 to 2013\u001b[0m\u001b[1;33m\u001b[0m\u001b[1;33m\u001b[0m\u001b[1;33m\u001b[0m\u001b[0m\n\u001b[0;32m      2\u001b[0m world_map.choropleth(\n\u001b[1;32m----> 3\u001b[1;33m     \u001b[0mgeo_data\u001b[0m\u001b[1;33m=\u001b[0m\u001b[0mworld_geo\u001b[0m\u001b[1;33m,\u001b[0m\u001b[1;33m\u001b[0m\u001b[1;33m\u001b[0m\u001b[0m\n\u001b[0m\u001b[0;32m      4\u001b[0m     \u001b[0mdata\u001b[0m\u001b[1;33m=\u001b[0m\u001b[0mdf_can\u001b[0m\u001b[1;33m,\u001b[0m\u001b[1;33m\u001b[0m\u001b[1;33m\u001b[0m\u001b[0m\n\u001b[0;32m      5\u001b[0m     \u001b[0mcolumns\u001b[0m\u001b[1;33m=\u001b[0m\u001b[1;33m[\u001b[0m\u001b[1;34m'Country'\u001b[0m\u001b[1;33m,\u001b[0m \u001b[1;34m'Total'\u001b[0m\u001b[1;33m]\u001b[0m\u001b[1;33m,\u001b[0m\u001b[1;33m\u001b[0m\u001b[1;33m\u001b[0m\u001b[0m\n",
      "\u001b[1;31mNameError\u001b[0m: name 'world_geo' is not defined"
     ]
    }
   ],
   "source": [
    "# generate choropleth map using the total immigration of each country to Canada from 1980 to 2013\n",
    "world_map.choropleth(\n",
    "    geo_data=world_geo,\n",
    "    data=df_can,\n",
    "    columns=['Country', 'Total'],\n",
    "    key_on='feature.properties.name',\n",
    "    fill_color='YlOrRd', \n",
    "    fill_opacity=0.7, \n",
    "    line_opacity=0.2,\n",
    "    legend_name='Immigration to Canada'\n",
    ")\n",
    "\n",
    "# display map\n",
    "world_map"
   ]
  },
  {
   "cell_type": "markdown",
   "metadata": {
    "button": false,
    "new_sheet": false,
    "run_control": {
     "read_only": false
    }
   },
   "source": [
    "As per our `Choropleth` map legend, the darker the color of a country and the closer the color to red, the higher the number of immigrants from that country. Accordingly, the highest immigration over the course of 33 years (from 1980 to 2013) was from China, India, and the Philippines, followed by Poland, Pakistan, and interestingly, the US."
   ]
  },
  {
   "cell_type": "markdown",
   "metadata": {
    "button": false,
    "new_sheet": false,
    "run_control": {
     "read_only": false
    }
   },
   "source": [
    "Notice how the legend is displaying a negative boundary or threshold. Let's fix that by defining our own thresholds and starting with 0 instead of -6,918!"
   ]
  },
  {
   "cell_type": "code",
   "execution_count": null,
   "metadata": {
    "button": false,
    "new_sheet": false,
    "run_control": {
     "read_only": false
    },
    "scrolled": false
   },
   "outputs": [],
   "source": [
    "world_geo = r'world_countries.json'\n",
    "\n",
    "# create a numpy array of length 6 and has linear spacing from the minium total immigration to the maximum total immigration\n",
    "threshold_scale = np.linspace(df_can['Total'].min(),\n",
    "                              df_can['Total'].max(),\n",
    "                              6, dtype=int)\n",
    "threshold_scale = threshold_scale.tolist() # change the numpy array to a list\n",
    "threshold_scale[-1] = threshold_scale[-1] + 1 # make sure that the last value of the list is greater than the maximum immigration\n",
    "\n",
    "# let Folium determine the scale.\n",
    "world_map = folium.Map(location=[0, 0], zoom_start=2, tiles='Mapbox Bright')\n",
    "world_map.choropleth(\n",
    "    geo_data=world_geo,\n",
    "    data=df_can,\n",
    "    columns=['Country', 'Total'],\n",
    "    key_on='feature.properties.name',\n",
    "    threshold_scale=threshold_scale,\n",
    "    fill_color='YlOrRd', \n",
    "    fill_opacity=0.7, \n",
    "    line_opacity=0.2,\n",
    "    legend_name='Immigration to Canada',\n",
    "    reset=True\n",
    ")\n",
    "world_map"
   ]
  },
  {
   "cell_type": "markdown",
   "metadata": {
    "button": false,
    "new_sheet": false,
    "run_control": {
     "read_only": false
    }
   },
   "source": [
    "Much better now! Feel free to play around with the data and perhaps create `Choropleth` maps for individuals years, or perhaps decades, and see how they compare with the entire period from 1980 to 2013."
   ]
  },
  {
   "cell_type": "markdown",
   "metadata": {
    "button": false,
    "new_sheet": false,
    "run_control": {
     "read_only": false
    }
   },
   "source": [
    "### Thank you for completing this lab!\n",
    "\n",
    "This notebook was created by [Alex Aklson](https://www.linkedin.com/in/aklson/). I hope you found this lab interesting and educational. Feel free to contact me if you have any questions!"
   ]
  },
  {
   "cell_type": "markdown",
   "metadata": {
    "button": false,
    "new_sheet": false,
    "run_control": {
     "read_only": false
    }
   },
   "source": [
    "This notebook is part of a course on **Coursera** called *Data Visualization with Python*. If you accessed this notebook outside the course, you can take this course online by clicking [here](http://cocl.us/DV0101EN_Coursera_Week3_LAB2)."
   ]
  },
  {
   "cell_type": "markdown",
   "metadata": {
    "button": false,
    "new_sheet": false,
    "run_control": {
     "read_only": false
    }
   },
   "source": [
    "<hr>\n",
    "\n",
    "Copyright &copy; 2019 [Cognitive Class](https://cognitiveclass.ai/?utm_source=bducopyrightlink&utm_medium=dswb&utm_campaign=bdu). This notebook and its source code are released under the terms of the [MIT License](https://bigdatauniversity.com/mit-license/)."
   ]
  }
 ],
 "metadata": {
  "kernelspec": {
   "display_name": "Python 3",
   "language": "python",
   "name": "python3"
  },
  "language_info": {
   "codemirror_mode": {
    "name": "ipython",
    "version": 3
   },
   "file_extension": ".py",
   "mimetype": "text/x-python",
   "name": "python",
   "nbconvert_exporter": "python",
   "pygments_lexer": "ipython3",
   "version": "3.7.4"
  },
  "widgets": {
   "state": {},
   "version": "1.1.2"
  }
 },
 "nbformat": 4,
 "nbformat_minor": 2
}
